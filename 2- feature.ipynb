{
 "cells": [
  {
   "cell_type": "code",
   "execution_count": 1,
   "metadata": {},
   "outputs": [],
   "source": [
    "#packages\n",
    "import pandas as pd\n",
    "import numpy as np\n",
    "import json\n",
    "import math\n",
    "\n",
    "import seaborn as sns\n",
    "import matplotlib.pyplot as plt"
   ]
  },
  {
   "cell_type": "code",
   "execution_count": 2,
   "metadata": {},
   "outputs": [],
   "source": [
    "#import data\n",
    "data=pd.read_pickle('data/clean_df.pickle')"
   ]
  },
  {
   "cell_type": "code",
   "execution_count": 3,
   "metadata": {},
   "outputs": [],
   "source": [
    "#euclidean distance between two points\n",
    "def distance(x, y):\n",
    "    return np.sqrt( (y[0]-x[0])**2  +  (y[1]-x[1])**2)"
   ]
  },
  {
   "cell_type": "code",
   "execution_count": 4,
   "metadata": {},
   "outputs": [],
   "source": [
    "#shoot angle : angle defined by the straight lines connecting the goal location to the two posts\n",
    "def shotAngle(x):\n",
    "    \n",
    "    near_post_coor=(120,36) #1st post coordinates based on Statsbomb dimensions (in yards)\n",
    "    far_post_coor=(120,44) #2nd post coordinates based on Statsbomb dimensions (in yards)\n",
    "    near_post_dist=shotDistance(x, near_post_coor) #distance shooting point vs 1st post\n",
    "    far_post_dist=shotDistance(x, far_post_coor) #distance shooting point vs 2nd post\n",
    "    \n",
    "    #44-36 : distance between 1st post and 2nd post (goal line)\n",
    "    #use of Al-Kashi theorem\n",
    "    res=(near_post_dist**2 + far_post_dist**2 - (44-36)**2) / (2*near_post_dist*far_post_dist)\n",
    "    if res==1.0 or res==-1.0:\n",
    "        return 0\n",
    "    elif res<-1.0 or res>1.0:\n",
    "        return 0\n",
    "    else:\n",
    "        return math.acos(res)#return shoot angle in radian"
   ]
  },
  {
   "cell_type": "code",
   "execution_count": 5,
   "metadata": {},
   "outputs": [],
   "source": [
    "#define if a player is in the shoot angle\n",
    "#A player is in the shooting angle if the area of the 3 triangles \n",
    "#formed by the position of the player and the vertices (shooting point, 1st post, 2nd post) is equal to \n",
    "#the area of the triangle formed by these same three vertices\n",
    "def isInTriangle(p, a, b, c):\n",
    "    a_b=distance(a,b)\n",
    "    a_c=distance(a,c)\n",
    "    b_c=distance(b,c)\n",
    "    \n",
    "    a_b=distance(a,b)\n",
    "    a_p=distance(a,p)\n",
    "    b_p=distance(b,p)\n",
    "    \n",
    "    a_p=distance(a,p)\n",
    "    a_c=distance(a,c)\n",
    "    p_c=distance(p,c)\n",
    "    \n",
    "    p_b=distance(p,b)\n",
    "    p_c=distance(p,c)\n",
    "    b_c=distance(b,c)\n",
    "    \n",
    "    p=(a_b+b_c+a_c)/2\n",
    "    s_abc=(p*(p-a_b)*(p-b_c)*(p-a_c))**(1/2)\n",
    "    \n",
    "    p=(a_b+b_p+a_p)/2\n",
    "    s_abp=(p*(p-a_b)*(p-b_p)*(p-a_p))**(1/2)\n",
    "    \n",
    "    p=(a_p+p_c+a_c)/2\n",
    "    s_acp=(p*(p-a_p)*(p-p_c)*(p-a_c))**(1/2)\n",
    "    \n",
    "    p=(p_b+b_c+p_c)/2\n",
    "    s_bcp=(p*(p-p_b)*(p-b_c)*(p-p_c))**(1/2)\n",
    "    \n",
    "    if abs(s_abc - (s_abp+s_acp+s_bcp)) < 0.01:\n",
    "        return True \n",
    "    else:\n",
    "        False"
   ]
  },
  {
   "cell_type": "code",
   "execution_count": 6,
   "metadata": {},
   "outputs": [],
   "source": [
    "#define number of players in the shooting angle\n",
    "def nbPlayersTriangle(location, player_list):\n",
    "    \n",
    "    if player_list is not None:\n",
    "        nb_players=0\n",
    "        for player in player_list:\n",
    "\n",
    "            p=player['location']\n",
    "            if isInTriangle(p, tuple(location), (120,36), (120,44))==True:\n",
    "                nb_players+=1\n",
    "    else:\n",
    "        nb_players=0\n",
    "        \n",
    "    return nb_players"
   ]
  },
  {
   "cell_type": "code",
   "execution_count": 7,
   "metadata": {},
   "outputs": [],
   "source": [
    "#distance between the shooting point and the middle of the goal line\n",
    "def shotDistance(x, middle_pitch):\n",
    "    return np.sqrt( (middle_pitch[0]-x[0])**2  +  (middle_pitch[1]-x[1])**2)"
   ]
  },
  {
   "cell_type": "code",
   "execution_count": 8,
   "metadata": {},
   "outputs": [
    {
     "name": "stderr",
     "output_type": "stream",
     "text": [
      "C:\\Users\\Admin\\Anaconda3\\lib\\site-packages\\ipykernel_launcher.py:29: RuntimeWarning: invalid value encountered in double_scalars\n",
      "C:\\Users\\Admin\\Anaconda3\\lib\\site-packages\\ipykernel_launcher.py:26: RuntimeWarning: invalid value encountered in double_scalars\n"
     ]
    }
   ],
   "source": [
    "middle_pitch=(120,40) #middle of the goal line\n",
    "\n",
    "#calculation of new features\n",
    "data['distance']=data['location'].apply(lambda x: shotDistance(x, middle_pitch))\n",
    "data['angle']=data['location'].apply(lambda x: shotAngle(x))\n",
    "data['nb_players']=data.apply(lambda x: nbPlayersTriangle(x['location'], x['freeze_frame']), axis=1)\n",
    "data['body_part']=data['body_part'].apply(lambda x: 'Foot' if (x=='Right Foot') or (x=='Left Foot') else x)\n",
    "\n",
    "#useless features\n",
    "data=data.drop(['location', 'freeze_frame'], axis=1)"
   ]
  },
  {
   "cell_type": "code",
   "execution_count": 9,
   "metadata": {},
   "outputs": [
    {
     "name": "stdout",
     "output_type": "stream",
     "text": [
      "Open Play    10252\n",
      "Free Kick      858\n",
      "Penalty        140\n",
      "Corner           1\n",
      "Name: type, dtype: int64\n"
     ]
    }
   ],
   "source": [
    "#one corner... drop this row\n",
    "print(data['type'].value_counts())\n",
    "mask=data['type']!='Corner'\n",
    "data=data[mask]"
   ]
  },
  {
   "cell_type": "code",
   "execution_count": 10,
   "metadata": {},
   "outputs": [
    {
     "data": {
      "text/html": [
       "<div>\n",
       "<style scoped>\n",
       "    .dataframe tbody tr th:only-of-type {\n",
       "        vertical-align: middle;\n",
       "    }\n",
       "\n",
       "    .dataframe tbody tr th {\n",
       "        vertical-align: top;\n",
       "    }\n",
       "\n",
       "    .dataframe thead th {\n",
       "        text-align: right;\n",
       "    }\n",
       "</style>\n",
       "<table border=\"1\" class=\"dataframe\">\n",
       "  <thead>\n",
       "    <tr style=\"text-align: right;\">\n",
       "      <th></th>\n",
       "      <th>under_pressure</th>\n",
       "      <th>xg</th>\n",
       "      <th>first_time</th>\n",
       "      <th>open_goal</th>\n",
       "      <th>technique</th>\n",
       "      <th>body_part</th>\n",
       "      <th>type</th>\n",
       "      <th>outcome</th>\n",
       "      <th>distance</th>\n",
       "      <th>angle</th>\n",
       "      <th>nb_players</th>\n",
       "    </tr>\n",
       "  </thead>\n",
       "  <tbody>\n",
       "    <tr>\n",
       "      <th>333</th>\n",
       "      <td>True</td>\n",
       "      <td>0.481119</td>\n",
       "      <td>True</td>\n",
       "      <td>False</td>\n",
       "      <td>Normal</td>\n",
       "      <td>Foot</td>\n",
       "      <td>Open Play</td>\n",
       "      <td>False</td>\n",
       "      <td>10.231813</td>\n",
       "      <td>0.708496</td>\n",
       "      <td>1</td>\n",
       "    </tr>\n",
       "    <tr>\n",
       "      <th>337</th>\n",
       "      <td>False</td>\n",
       "      <td>0.053685</td>\n",
       "      <td>True</td>\n",
       "      <td>False</td>\n",
       "      <td>Volley</td>\n",
       "      <td>Foot</td>\n",
       "      <td>Open Play</td>\n",
       "      <td>False</td>\n",
       "      <td>9.881295</td>\n",
       "      <td>0.516821</td>\n",
       "      <td>2</td>\n",
       "    </tr>\n",
       "    <tr>\n",
       "      <th>376</th>\n",
       "      <td>False</td>\n",
       "      <td>0.080306</td>\n",
       "      <td>False</td>\n",
       "      <td>False</td>\n",
       "      <td>Normal</td>\n",
       "      <td>Foot</td>\n",
       "      <td>Free Kick</td>\n",
       "      <td>False</td>\n",
       "      <td>26.057245</td>\n",
       "      <td>0.289665</td>\n",
       "      <td>4</td>\n",
       "    </tr>\n",
       "    <tr>\n",
       "      <th>424</th>\n",
       "      <td>False</td>\n",
       "      <td>0.025205</td>\n",
       "      <td>False</td>\n",
       "      <td>False</td>\n",
       "      <td>Normal</td>\n",
       "      <td>Foot</td>\n",
       "      <td>Open Play</td>\n",
       "      <td>False</td>\n",
       "      <td>27.302930</td>\n",
       "      <td>0.181144</td>\n",
       "      <td>1</td>\n",
       "    </tr>\n",
       "    <tr>\n",
       "      <th>428</th>\n",
       "      <td>False</td>\n",
       "      <td>0.039715</td>\n",
       "      <td>False</td>\n",
       "      <td>False</td>\n",
       "      <td>Normal</td>\n",
       "      <td>Foot</td>\n",
       "      <td>Free Kick</td>\n",
       "      <td>False</td>\n",
       "      <td>29.343653</td>\n",
       "      <td>0.233293</td>\n",
       "      <td>4</td>\n",
       "    </tr>\n",
       "  </tbody>\n",
       "</table>\n",
       "</div>"
      ],
      "text/plain": [
       "     under_pressure        xg  first_time  open_goal technique body_part  \\\n",
       "333            True  0.481119        True      False    Normal      Foot   \n",
       "337           False  0.053685        True      False    Volley      Foot   \n",
       "376           False  0.080306       False      False    Normal      Foot   \n",
       "424           False  0.025205       False      False    Normal      Foot   \n",
       "428           False  0.039715       False      False    Normal      Foot   \n",
       "\n",
       "          type  outcome   distance     angle  nb_players  \n",
       "333  Open Play    False  10.231813  0.708496           1  \n",
       "337  Open Play    False   9.881295  0.516821           2  \n",
       "376  Free Kick    False  26.057245  0.289665           4  \n",
       "424  Open Play    False  27.302930  0.181144           1  \n",
       "428  Free Kick    False  29.343653  0.233293           4  "
      ]
     },
     "execution_count": 10,
     "metadata": {},
     "output_type": "execute_result"
    }
   ],
   "source": [
    "data.head()"
   ]
  },
  {
   "cell_type": "code",
   "execution_count": 11,
   "metadata": {},
   "outputs": [],
   "source": [
    "#save data\n",
    "data.to_pickle('data/feature_eng__df.pickle')"
   ]
  }
 ],
 "metadata": {
  "kernelspec": {
   "display_name": "Python 3",
   "language": "python",
   "name": "python3"
  },
  "language_info": {
   "codemirror_mode": {
    "name": "ipython",
    "version": 3
   },
   "file_extension": ".py",
   "mimetype": "text/x-python",
   "name": "python",
   "nbconvert_exporter": "python",
   "pygments_lexer": "ipython3",
   "version": "3.7.4"
  }
 },
 "nbformat": 4,
 "nbformat_minor": 2
}
