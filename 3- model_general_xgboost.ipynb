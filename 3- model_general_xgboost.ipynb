{
 "cells": [
  {
   "cell_type": "code",
   "execution_count": 1,
   "metadata": {},
   "outputs": [],
   "source": [
    "#packages\n",
    "import pandas as pd\n",
    "import numpy as np\n",
    "\n",
    "import sklearn\n",
    "from sklearn.model_selection import train_test_split \n",
    "from sklearn.pipeline import Pipeline\n",
    "from sklearn.preprocessing import StandardScaler, OneHotEncoder\n",
    "from sklearn.compose import ColumnTransformer\n",
    "\n",
    "from xgboost import XGBClassifier\n",
    "\n",
    "from sklearn.model_selection import GridSearchCV\n",
    "from sklearn.model_selection import KFold\n",
    "\n",
    "from sklearn.metrics import accuracy_score, confusion_matrix, roc_auc_score, plot_roc_curve, average_precision_score\n",
    "\n",
    "import pickle\n",
    "\n",
    "import seaborn as sns \n",
    "import matplotlib.pyplot as plt\n",
    "\n",
    "import shap"
   ]
  },
  {
   "cell_type": "markdown",
   "metadata": {},
   "source": [
    "### Import Data"
   ]
  },
  {
   "cell_type": "code",
   "execution_count": 2,
   "metadata": {},
   "outputs": [],
   "source": [
    "data=pd.read_pickle('data/feature_eng__df.pickle')"
   ]
  },
  {
   "cell_type": "markdown",
   "metadata": {},
   "source": [
    "### Train Test"
   ]
  },
  {
   "cell_type": "code",
   "execution_count": 3,
   "metadata": {},
   "outputs": [],
   "source": [
    "#xg and outcome are not features\n",
    "X=data.drop(['xg', 'outcome'], axis=1) \n",
    "y_xg=data[['xg', 'outcome']] \n",
    "\n",
    "#train test split\n",
    "X_train, X_test, y_train_xg, y_test_xg = train_test_split(X, y_xg, test_size=0.20, random_state=42) \n",
    "\n",
    "#split outcome and xg\n",
    "y_train=y_train_xg['outcome']\n",
    "y_train_xg=y_train_xg['xg']\n",
    "\n",
    "y_test=y_test_xg['outcome']\n",
    "y_test_xg=y_test_xg['xg']"
   ]
  },
  {
   "cell_type": "markdown",
   "metadata": {},
   "source": [
    "### Pipeline"
   ]
  },
  {
   "cell_type": "markdown",
   "metadata": {},
   "source": [
    "9 features are used :\n",
    "   - distance : distance between shooting point and the middle of the goal line\n",
    "   - angle : shooting angle\n",
    "   - nb_players : Number of players in the shooting angle (offensives and defensives)\n",
    "   - under_pressure : player under pressure during the shot\n",
    "   - first_time : the player touches the ball for the first time when he shoots \n",
    "   - open_goal : no one to keep the goal\n",
    "   - technique : Lob, volley, head, etc..\n",
    "   - body_part : Foot, Head, Other\n",
    "   - type : Open-Play, penalty, Free kick"
   ]
  },
  {
   "cell_type": "code",
   "execution_count": 4,
   "metadata": {},
   "outputs": [],
   "source": [
    "num_features = ['distance', 'angle', 'nb_players']\n",
    "\n",
    "cat_features = ['under_pressure', 'first_time', 'open_goal', \n",
    "                        'technique', 'body_part', 'type']\n",
    "\n",
    "num_transformer=Pipeline(steps=[('scaler', StandardScaler())])\n",
    "\n",
    "cat_transformer=Pipeline(steps=[('onehot', OneHotEncoder(drop='if_binary'))])\n",
    "\n",
    "preprocessor = ColumnTransformer(\n",
    "    transformers=[\n",
    "        ('num_1', num_transformer, num_features),\n",
    "        ('cat', cat_transformer, cat_features)])\n",
    "\n",
    "model = Pipeline(steps=[('preprocessor', preprocessor),\n",
    "                      ('classifier', XGBClassifier())])\n",
    "\n",
    "param_grid = {\n",
    "    'classifier__nthread': [4],\n",
    "    'classifier__objective': ['binary:logistic'],\n",
    "    'classifier__max_depth': [3],\n",
    "    'classifier__learning_rate': [0.1, 0.15],\n",
    "    'classifier__n_estimators': [50, 100],\n",
    "    'classifier__seed': [42]\n",
    "}\n",
    "\n",
    "cv = KFold(n_splits=5)\n",
    "\n",
    "#model is refitted according to ROC AUC\n",
    "grid= GridSearchCV(model, param_grid, cv=cv, n_jobs= -1, \n",
    "                     return_train_score=True, refit=True, \n",
    "                     scoring='roc_auc', verbose=2)"
   ]
  },
  {
   "cell_type": "code",
   "execution_count": 5,
   "metadata": {},
   "outputs": [
    {
     "name": "stdout",
     "output_type": "stream",
     "text": [
      "Fitting 5 folds for each of 4 candidates, totalling 20 fits\n"
     ]
    },
    {
     "name": "stderr",
     "output_type": "stream",
     "text": [
      "[Parallel(n_jobs=-1)]: Using backend LokyBackend with 4 concurrent workers.\n",
      "[Parallel(n_jobs=-1)]: Done  20 out of  20 | elapsed:   21.6s finished\n"
     ]
    },
    {
     "data": {
      "text/plain": [
       "GridSearchCV(cv=KFold(n_splits=5, random_state=None, shuffle=False),\n",
       "             estimator=Pipeline(steps=[('preprocessor',\n",
       "                                        ColumnTransformer(transformers=[('num_1',\n",
       "                                                                         Pipeline(steps=[('scaler',\n",
       "                                                                                          StandardScaler())]),\n",
       "                                                                         ['distance',\n",
       "                                                                          'angle',\n",
       "                                                                          'nb_players']),\n",
       "                                                                        ('cat',\n",
       "                                                                         Pipeline(steps=[('onehot',\n",
       "                                                                                          OneHotEncoder(drop='if_binary'))]),\n",
       "                                                                         ['under_pressure',\n",
       "                                                                          'first_time',\n",
       "                                                                          'open_goal',\n",
       "                                                                          'technique',\n",
       "                                                                          'body_part',\n",
       "                                                                          'type'])])),\n",
       "                                       ('classifier', XGBClassifier())]),\n",
       "             n_jobs=-1,\n",
       "             param_grid={'classifier__learning_rate': [0.1, 0.15],\n",
       "                         'classifier__max_depth': [3],\n",
       "                         'classifier__n_estimators': [50, 100],\n",
       "                         'classifier__nthread': [4],\n",
       "                         'classifier__objective': ['binary:logistic'],\n",
       "                         'classifier__seed': [42]},\n",
       "             return_train_score=True, scoring='roc_auc', verbose=2)"
      ]
     },
     "execution_count": 5,
     "metadata": {},
     "output_type": "execute_result"
    }
   ],
   "source": [
    "grid.fit(X_train, y_train)"
   ]
  },
  {
   "cell_type": "code",
   "execution_count": 6,
   "metadata": {},
   "outputs": [
    {
     "data": {
      "text/html": [
       "<div>\n",
       "<style scoped>\n",
       "    .dataframe tbody tr th:only-of-type {\n",
       "        vertical-align: middle;\n",
       "    }\n",
       "\n",
       "    .dataframe tbody tr th {\n",
       "        vertical-align: top;\n",
       "    }\n",
       "\n",
       "    .dataframe thead th {\n",
       "        text-align: right;\n",
       "    }\n",
       "</style>\n",
       "<table border=\"1\" class=\"dataframe\">\n",
       "  <thead>\n",
       "    <tr style=\"text-align: right;\">\n",
       "      <th></th>\n",
       "      <th>mean_fit_time</th>\n",
       "      <th>std_fit_time</th>\n",
       "      <th>mean_score_time</th>\n",
       "      <th>std_score_time</th>\n",
       "      <th>param_classifier__learning_rate</th>\n",
       "      <th>param_classifier__max_depth</th>\n",
       "      <th>param_classifier__n_estimators</th>\n",
       "      <th>param_classifier__nthread</th>\n",
       "      <th>param_classifier__objective</th>\n",
       "      <th>param_classifier__seed</th>\n",
       "      <th>...</th>\n",
       "      <th>mean_test_score</th>\n",
       "      <th>std_test_score</th>\n",
       "      <th>rank_test_score</th>\n",
       "      <th>split0_train_score</th>\n",
       "      <th>split1_train_score</th>\n",
       "      <th>split2_train_score</th>\n",
       "      <th>split3_train_score</th>\n",
       "      <th>split4_train_score</th>\n",
       "      <th>mean_train_score</th>\n",
       "      <th>std_train_score</th>\n",
       "    </tr>\n",
       "  </thead>\n",
       "  <tbody>\n",
       "    <tr>\n",
       "      <th>0</th>\n",
       "      <td>2.012905</td>\n",
       "      <td>0.439347</td>\n",
       "      <td>0.031103</td>\n",
       "      <td>0.008349</td>\n",
       "      <td>0.1</td>\n",
       "      <td>3</td>\n",
       "      <td>50</td>\n",
       "      <td>4</td>\n",
       "      <td>binary:logistic</td>\n",
       "      <td>42</td>\n",
       "      <td>...</td>\n",
       "      <td>0.800302</td>\n",
       "      <td>0.020382</td>\n",
       "      <td>4</td>\n",
       "      <td>0.824455</td>\n",
       "      <td>0.829460</td>\n",
       "      <td>0.822979</td>\n",
       "      <td>0.815122</td>\n",
       "      <td>0.830827</td>\n",
       "      <td>0.824569</td>\n",
       "      <td>0.005565</td>\n",
       "    </tr>\n",
       "    <tr>\n",
       "      <th>1</th>\n",
       "      <td>4.978000</td>\n",
       "      <td>1.164054</td>\n",
       "      <td>0.029102</td>\n",
       "      <td>0.006710</td>\n",
       "      <td>0.1</td>\n",
       "      <td>3</td>\n",
       "      <td>100</td>\n",
       "      <td>4</td>\n",
       "      <td>binary:logistic</td>\n",
       "      <td>42</td>\n",
       "      <td>...</td>\n",
       "      <td>0.801205</td>\n",
       "      <td>0.022470</td>\n",
       "      <td>2</td>\n",
       "      <td>0.834920</td>\n",
       "      <td>0.840156</td>\n",
       "      <td>0.835128</td>\n",
       "      <td>0.826738</td>\n",
       "      <td>0.843690</td>\n",
       "      <td>0.836126</td>\n",
       "      <td>0.005728</td>\n",
       "    </tr>\n",
       "    <tr>\n",
       "      <th>2</th>\n",
       "      <td>1.376300</td>\n",
       "      <td>0.204013</td>\n",
       "      <td>0.025199</td>\n",
       "      <td>0.005287</td>\n",
       "      <td>0.15</td>\n",
       "      <td>3</td>\n",
       "      <td>50</td>\n",
       "      <td>4</td>\n",
       "      <td>binary:logistic</td>\n",
       "      <td>42</td>\n",
       "      <td>...</td>\n",
       "      <td>0.801682</td>\n",
       "      <td>0.021451</td>\n",
       "      <td>1</td>\n",
       "      <td>0.831721</td>\n",
       "      <td>0.836165</td>\n",
       "      <td>0.828553</td>\n",
       "      <td>0.822754</td>\n",
       "      <td>0.837545</td>\n",
       "      <td>0.831347</td>\n",
       "      <td>0.005355</td>\n",
       "    </tr>\n",
       "    <tr>\n",
       "      <th>3</th>\n",
       "      <td>2.547000</td>\n",
       "      <td>0.949335</td>\n",
       "      <td>0.021400</td>\n",
       "      <td>0.002957</td>\n",
       "      <td>0.15</td>\n",
       "      <td>3</td>\n",
       "      <td>100</td>\n",
       "      <td>4</td>\n",
       "      <td>binary:logistic</td>\n",
       "      <td>42</td>\n",
       "      <td>...</td>\n",
       "      <td>0.800383</td>\n",
       "      <td>0.022765</td>\n",
       "      <td>3</td>\n",
       "      <td>0.843136</td>\n",
       "      <td>0.849033</td>\n",
       "      <td>0.842492</td>\n",
       "      <td>0.838472</td>\n",
       "      <td>0.853734</td>\n",
       "      <td>0.845373</td>\n",
       "      <td>0.005371</td>\n",
       "    </tr>\n",
       "  </tbody>\n",
       "</table>\n",
       "<p>4 rows × 26 columns</p>\n",
       "</div>"
      ],
      "text/plain": [
       "   mean_fit_time  std_fit_time  mean_score_time  std_score_time  \\\n",
       "0       2.012905      0.439347         0.031103        0.008349   \n",
       "1       4.978000      1.164054         0.029102        0.006710   \n",
       "2       1.376300      0.204013         0.025199        0.005287   \n",
       "3       2.547000      0.949335         0.021400        0.002957   \n",
       "\n",
       "  param_classifier__learning_rate param_classifier__max_depth  \\\n",
       "0                             0.1                           3   \n",
       "1                             0.1                           3   \n",
       "2                            0.15                           3   \n",
       "3                            0.15                           3   \n",
       "\n",
       "  param_classifier__n_estimators param_classifier__nthread  \\\n",
       "0                             50                         4   \n",
       "1                            100                         4   \n",
       "2                             50                         4   \n",
       "3                            100                         4   \n",
       "\n",
       "  param_classifier__objective param_classifier__seed  ... mean_test_score  \\\n",
       "0             binary:logistic                     42  ...        0.800302   \n",
       "1             binary:logistic                     42  ...        0.801205   \n",
       "2             binary:logistic                     42  ...        0.801682   \n",
       "3             binary:logistic                     42  ...        0.800383   \n",
       "\n",
       "   std_test_score  rank_test_score  split0_train_score  split1_train_score  \\\n",
       "0        0.020382                4            0.824455            0.829460   \n",
       "1        0.022470                2            0.834920            0.840156   \n",
       "2        0.021451                1            0.831721            0.836165   \n",
       "3        0.022765                3            0.843136            0.849033   \n",
       "\n",
       "   split2_train_score  split3_train_score  split4_train_score  \\\n",
       "0            0.822979            0.815122            0.830827   \n",
       "1            0.835128            0.826738            0.843690   \n",
       "2            0.828553            0.822754            0.837545   \n",
       "3            0.842492            0.838472            0.853734   \n",
       "\n",
       "   mean_train_score  std_train_score  \n",
       "0          0.824569         0.005565  \n",
       "1          0.836126         0.005728  \n",
       "2          0.831347         0.005355  \n",
       "3          0.845373         0.005371  \n",
       "\n",
       "[4 rows x 26 columns]"
      ]
     },
     "execution_count": 6,
     "metadata": {},
     "output_type": "execute_result"
    }
   ],
   "source": [
    "#cv results to check under/over-fitting\n",
    "pd.DataFrame(grid.cv_results_)"
   ]
  },
  {
   "cell_type": "code",
   "execution_count": 7,
   "metadata": {},
   "outputs": [],
   "source": [
    "#prediction\n",
    "y_pred=grid.predict(X_test)\n",
    "y_pred_score=grid.predict_proba(X_test)"
   ]
  },
  {
   "cell_type": "code",
   "execution_count": 8,
   "metadata": {},
   "outputs": [
    {
     "name": "stdout",
     "output_type": "stream",
     "text": [
      "True positive rate (arbitrary threshold 0.5):  0.22916666666666666\n",
      "auc modele :  0.8187299410359754\n",
      "auc statsbomb :  0.8327377842464049\n"
     ]
    }
   ],
   "source": [
    "tn, fp, fn, tp=confusion_matrix(y_test, y_pred).ravel() \n",
    "print('True positive rate (arbitrary threshold 0.5): ', tp/(tp+fn))\n",
    "\n",
    "#compare my model and statsbomb model\n",
    "print('auc modele : ', roc_auc_score(y_test, y_pred_score[:,1]))\n",
    "print('auc statsbomb : ', roc_auc_score(y_test, y_test_xg))"
   ]
  },
  {
   "cell_type": "markdown",
   "metadata": {},
   "source": [
    "Comparaison des 2 distributions"
   ]
  },
  {
   "cell_type": "code",
   "execution_count": 9,
   "metadata": {},
   "outputs": [
    {
     "data": {
      "text/plain": [
       "<seaborn.axisgrid.FacetGrid at 0x259f37c2748>"
      ]
     },
     "execution_count": 9,
     "metadata": {},
     "output_type": "execute_result"
    },
    {
     "data": {
      "image/png": "[encoded data removed]",
      "text/plain": [
       "<Figure size 433.125x360 with 1 Axes>"
      ]
     },
     "metadata": {
      "needs_background": "light"
     },
     "output_type": "display_data"
    }
   ],
   "source": [
    "#2 distributions : model output and statsbomb Xg\n",
    "modele_df=pd.DataFrame(y_pred_score[:,1], columns=['xg'])\n",
    "modele_df['type']='modele'\n",
    "\n",
    "xg_df=pd.DataFrame(y_test_xg, columns=['xg'])\n",
    "xg_df['type']='xg'\n",
    "\n",
    "compar_df=pd.concat([modele_df, xg_df], axis=0) \n",
    "\n",
    "sns.displot(data=compar_df, x='xg', hue='type')"
   ]
  },
  {
   "cell_type": "markdown",
   "metadata": {},
   "source": [
    "Calibration Curve"
   ]
  },
  {
   "cell_type": "code",
   "execution_count": 10,
   "metadata": {},
   "outputs": [],
   "source": [
    "#calibration curve\n",
    "def calibrationCurve(y_test, y_test_score, title):\n",
    "    \n",
    "    from sklearn.calibration import calibration_curve\n",
    "    \n",
    "    fraction_of_positives, mean_predicted_value = calibration_curve(y_test, y_test_score, n_bins=9)\n",
    "\n",
    "    fig, ax = plt.subplots(1, figsize=(12, 6))\n",
    "    plt.plot(mean_predicted_value, fraction_of_positives, 's-')\n",
    "    plt.plot([0, 1], [0, 1], '--', color='gray')\n",
    "\n",
    "    sns.despine(left=True, bottom=True)\n",
    "    plt.gca().xaxis.set_ticks_position('none')\n",
    "    plt.gca().yaxis.set_ticks_position('none')\n",
    "    plt.title(\"Calibration Curve {}\".format(title), fontsize=20)\n",
    "    plt.show()\n",
    "    "
   ]
  },
  {
   "cell_type": "code",
   "execution_count": 11,
   "metadata": {},
   "outputs": [
    {
     "data": {
      "image/png": "[encoded data removed]",
      "text/plain": [
       "<Figure size 864x432 with 1 Axes>"
      ]
     },
     "metadata": {
      "needs_background": "light"
     },
     "output_type": "display_data"
    }
   ],
   "source": [
    "calibrationCurve(y_test, y_pred_score[:,1], 'model')"
   ]
  },
  {
   "cell_type": "code",
   "execution_count": 12,
   "metadata": {},
   "outputs": [
    {
     "data": {
      "image/png": "[encoded data removed]",
      "text/plain": [
       "<Figure size 864x432 with 1 Axes>"
      ]
     },
     "metadata": {
      "needs_background": "light"
     },
     "output_type": "display_data"
    }
   ],
   "source": [
    "calibrationCurve(y_test, y_test_xg, 'Statsbomb')"
   ]
  },
  {
   "cell_type": "code",
   "execution_count": 13,
   "metadata": {},
   "outputs": [],
   "source": [
    "#export model\n",
    "path='APP_dash/data/model_xgb.pickle'\n",
    "pickle.dump(grid, open(path, 'wb'))"
   ]
  },
  {
   "cell_type": "code",
   "execution_count": 14,
   "metadata": {},
   "outputs": [],
   "source": [
    "#export X test\n",
    "X_test.to_csv('APP_dash/data/X_test.csv')"
   ]
  }
 ],
 "metadata": {
  "kernelspec": {
   "display_name": "Python 3",
   "language": "python",
   "name": "python3"
  },
  "language_info": {
   "codemirror_mode": {
    "name": "ipython",
    "version": 3
   },
   "file_extension": ".py",
   "mimetype": "text/x-python",
   "name": "python",
   "nbconvert_exporter": "python",
   "pygments_lexer": "ipython3",
   "version": "3.7.4"
  }
 },
 "nbformat": 4,
 "nbformat_minor": 2
}
