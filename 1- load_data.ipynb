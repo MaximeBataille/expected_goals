{
 "cells": [
  {
   "cell_type": "code",
   "execution_count": 1,
   "metadata": {},
   "outputs": [],
   "source": [
    "#packages\n",
    "import pandas as pd\n",
    "from os import listdir\n",
    "from os.path import join"
   ]
  },
  {
   "cell_type": "code",
   "execution_count": 2,
   "metadata": {},
   "outputs": [],
   "source": [
    "#match id of barcelona\n",
    "path='data/11'\n",
    "files=listdir(path)\n",
    "\n",
    "matches_id=[]\n",
    "for f in files:\n",
    "    full_path=join(path, f)\n",
    "    data=pd.read_json(full_path)\n",
    "    matches_id += list(data['match_id'])"
   ]
  },
  {
   "cell_type": "code",
   "execution_count": 3,
   "metadata": {},
   "outputs": [],
   "source": [
    "#Extract feature for each feature\n",
    "def extractFeatureFromDic(x,feature):\n",
    "    \n",
    "    if feature in x.keys():\n",
    "        if feature=='technique':\n",
    "            return x[feature]['name']\n",
    "        elif feature=='body_part':\n",
    "            return x[feature]['name']\n",
    "        elif feature=='type':\n",
    "            return x[feature]['name']\n",
    "        elif feature=='outcome':\n",
    "            return x[feature]['name']\n",
    "        elif feature=='freeze_frame':\n",
    "            return x[feature]\n",
    "        elif feature=='statsbomb_xg':\n",
    "            return x[feature]\n",
    "        elif feature=='first_time':\n",
    "            return x[feature]\n",
    "        elif feature=='open_goal':\n",
    "            return x[feature]\n",
    "    else:\n",
    "        return None"
   ]
  },
  {
   "cell_type": "code",
   "execution_count": 4,
   "metadata": {},
   "outputs": [],
   "source": [
    "#extract features of each event dataframe. Using of extractFeatureFromDic\n",
    "def preClean(df):\n",
    "    \n",
    "    df['shot_bool']=df['type'].apply(lambda x: True if x['id']==16 else False)\n",
    "    \n",
    "    mask=df['shot_bool']==True\n",
    "    shots_df=df[mask]\n",
    "    \n",
    "    col=['location', 'under_pressure', 'shot']\n",
    "    shots_df=shots_df[col]\n",
    "    \n",
    "    shots_df['xg']=shots_df['shot'].apply(lambda x: extractFeatureFromDic(x, 'statsbomb_xg'))\n",
    "    shots_df['first_time']=shots_df['shot'].apply(lambda x: extractFeatureFromDic(x, 'first_time'))\n",
    "    shots_df['open_goal']=shots_df['shot'].apply(lambda x: extractFeatureFromDic(x, 'open_goal'))\n",
    "    shots_df['technique']=shots_df['shot'].apply(lambda x: extractFeatureFromDic(x, 'technique'))\n",
    "    shots_df['body_part']=shots_df['shot'].apply(lambda x: extractFeatureFromDic(x, 'body_part'))\n",
    "    shots_df['type']=shots_df['shot'].apply(lambda x: extractFeatureFromDic(x, 'type'))\n",
    "    shots_df['freeze_frame']=shots_df['shot'].apply(lambda x: extractFeatureFromDic(x, 'freeze_frame'))\n",
    "    shots_df['outcome']=shots_df['shot'].apply(lambda x: extractFeatureFromDic(x, 'outcome'))\n",
    "    \n",
    "    shots_df=shots_df.drop('shot', axis=1)\n",
    "    \n",
    "    return shots_df"
   ]
  },
  {
   "cell_type": "code",
   "execution_count": 5,
   "metadata": {},
   "outputs": [],
   "source": [
    "#More cleaning\n",
    "def secondClean(df):\n",
    "    \n",
    "    df['under_pressure']=df['under_pressure'].apply(lambda x: True if x==1.0 else False)\n",
    "    df['first_time']=df['first_time'].apply(lambda x: True if x==True else False)\n",
    "    df['open_goal']=df['open_goal'].apply(lambda x: True if x==True else False)\n",
    "    df['outcome']=df['outcome'].apply(lambda x: True if x=='Goal' else False)\n",
    "    \n",
    "    return df"
   ]
  },
  {
   "cell_type": "code",
   "execution_count": 7,
   "metadata": {},
   "outputs": [],
   "source": [
    "#path of events data\n",
    "#it's long...\n",
    "path='https://raw.githubusercontent.com/statsbomb/open-data/master/data/events'\n",
    "\n",
    "events_df=pd.DataFrame()\n",
    "for id in matches_id:\n",
    "    full_path=path + '/' + str(id)+'.json' #os.join() method does not work ...\n",
    "    df=pd.read_json(full_path)\n",
    "    clean_df=secondClean(preClean(df))\n",
    "    #addition of cleaned features of each match to the events dataframe\n",
    "    events_df=pd.concat([events_df, clean_df])"
   ]
  },
  {
   "cell_type": "code",
   "execution_count": 8,
   "metadata": {},
   "outputs": [],
   "source": [
    "#save dataframe\n",
    "events_df.to_pickle('data/clean_df.pickle')"
   ]
  }
 ],
 "metadata": {
  "kernelspec": {
   "display_name": "Python 3",
   "language": "python",
   "name": "python3"
  },
  "language_info": {
   "codemirror_mode": {
    "name": "ipython",
    "version": 3
   },
   "file_extension": ".py",
   "mimetype": "text/x-python",
   "name": "python",
   "nbconvert_exporter": "python",
   "pygments_lexer": "ipython3",
   "version": "3.7.4"
  }
 },
 "nbformat": 4,
 "nbformat_minor": 2
}
